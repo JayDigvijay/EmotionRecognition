{
  "nbformat": 4,
  "nbformat_minor": 0,
  "metadata": {
    "colab": {
      "name": "AI_Assignment.ipynb",
      "provenance": [],
      "collapsed_sections": []
    },
    "kernelspec": {
      "name": "python3",
      "display_name": "Python 3"
    }
  },
  "cells": [
    {
      "cell_type": "markdown",
      "metadata": {
        "id": "AZ9iPfXRODxY"
      },
      "source": [
        "Hi guys! Create Cells and add your codes!\n"
      ]
    },
    {
      "cell_type": "markdown",
      "metadata": {
        "id": "6GkbTmoEZFTY"
      },
      "source": [
        "Crossover"
      ]
    },
    {
      "cell_type": "code",
      "metadata": {
        "id": "FsXYnhsmZJOR",
        "outputId": "862f8604-5b92-48ec-fdd8-a9406a870539",
        "colab": {
          "base_uri": "https://localhost:8080/"
        }
      },
      "source": [
        "#single-point cross-over\n",
        "\n",
        "#p1= parent 1, p2= parent 2, n=number of bits\n",
        "import random\n",
        "def single_point_crossover(p1,p2,n):\n",
        "  p1=list(p1) #string to array\n",
        "  p2=list(p2)\n",
        "\n",
        "  k= random.randint(0,n-1)\n",
        "\n",
        "  print(\"k: \",k)\n",
        "\n",
        "  for i in range (k, n-1):\n",
        "    p1[i],p2[i] =p2[i],p1[i]\n",
        "\n",
        "  p1 = ''.join(p1) #array to string\n",
        "  p2 = ''.join(p2)\n",
        "  return p1,p2\n",
        "\n",
        "#code to test the crossover function\n",
        "p1 = '1010000101'\n",
        "p2 = '1111111111'\n",
        "n = len(p1)\n",
        "p1,p2=single_point_crossover(p1,p2,n)\n",
        "print(\"p1: \", p1,\"\\n\") \n",
        "print(\"p2: \", p2,\"\\n\")\n"
      ],
      "execution_count": null,
      "outputs": [
        {
          "output_type": "stream",
          "text": [
            "k:  7\n",
            "p1:  1010000111\n",
            "p2:  1111111101 \n",
            "\n"
          ],
          "name": "stdout"
        }
      ]
    },
    {
      "cell_type": "code",
      "metadata": {
        "id": "Eid70EnytDvk",
        "outputId": "43c16d43-c4a1-43bc-b2e2-fd664b582eae",
        "colab": {
          "base_uri": "https://localhost:8080/"
        }
      },
      "source": [
        "#multi-point cross-over\n",
        "#This will automatically include two point crossover\n",
        "#but not single point so a separate method is defined for it\n",
        "\n",
        "#p1= parent 1, p2= parent 2, n=number of bits\n",
        "import random\n",
        "def mutli_point_crossover(p1,p2,n):\n",
        "  p1=list(p1)\n",
        "  p2=list(p2)\n",
        "\n",
        "  k= random.randint(0,n-1) # number of points for crossover\n",
        "\n",
        "  arr = []\n",
        "  for i in range (1,k):\n",
        "    q=random.randint(0,n-1)\n",
        "    if q not in arr:#to eliminate duplicates\n",
        "      arr.append(q) # stores set of points that divide the array into segments\n",
        "\n",
        "  arr.sort()\n",
        "\n",
        "  m=len(arr)\n",
        "  print(\"Array of points: \",arr)\n",
        "  for x in range(0,m-1,2): #crossover for every alternate segment is done\n",
        "    for i in range (arr[x], arr[x+1]): \n",
        "      p1[i],p2[i] =p2[i],p1[i]\n",
        "      \n",
        "  p1 = ''.join(p1)\n",
        "  p2 = ''.join(p2)\n",
        "  return p1,p2\n",
        "\n",
        "#code to test the crossover function\n",
        "p1 = '0000000000'\n",
        "p2 = '1111111111'\n",
        "n = len(p1)\n",
        "p1,p2=multi_point_crossover(p1,p2,n)\n",
        "print(\"p1: \", p1,\"\\n\")\n",
        "print(\"p2: \", p2,\"\\n\")"
      ],
      "execution_count": null,
      "outputs": [
        {
          "output_type": "stream",
          "text": [
            "Array of points:  [0, 2, 2, 4, 6, 9]\n",
            "p1:  1111001110 \n",
            "\n",
            "p2:  0000110001 \n",
            "\n"
          ],
          "name": "stdout"
        }
      ]
    },
    {
      "cell_type": "code",
      "metadata": {
        "id": "rU6hZW1m0rsj",
        "outputId": "33035748-e3e8-4908-841f-0013a4264c6d",
        "colab": {
          "base_uri": "https://localhost:8080/"
        }
      },
      "source": [
        "#uniform cross-over\n",
        "\n",
        "#p1= parent 1, p2= parent 2, n=number of bits\n",
        "import random\n",
        "def uniform_crossover(p1,p2,n):\n",
        "  p1=list(p1)\n",
        "  p2=list(p2)\n",
        "  k= random.randint(0,n-1) # number of flips to be done\n",
        "\n",
        "  arr = []\n",
        "\n",
        "  for i in range (1,k): # for position of flips\n",
        "    q=random.randint(0,n-1)\n",
        "    if q not in arr: #to eliminate duplicates\n",
        "      arr.append(q)  #array stores the position where flips are to be done\n",
        "\n",
        "  arr.sort()\n",
        "\n",
        "  print(\"Array of points: \",arr)\n",
        "  for x in arr:\n",
        "    p1[x],p2[x] =p2[x],p1[x]\n",
        "    \n",
        "  p1 = ''.join(p1)\n",
        "  p2 = ''.join(p2)\n",
        "  return p1,p2\n",
        "\n",
        "#code to test the crossover function\n",
        "p1 = '0000000000'\n",
        "p2 = '1111111111'\n",
        "n = len(p1)\n",
        "p1,p2=uniform_crossover(p1,p2,n)\n",
        "print(\"p1: \", p1,\"\\n\")\n",
        "print(\"p2: \", p2,\"\\n\")"
      ],
      "execution_count": null,
      "outputs": [
        {
          "output_type": "stream",
          "text": [
            "Array of points:  [3, 4, 6, 7, 8]\n",
            "p1:  0001101110 \n",
            "\n",
            "p2:  1110010001 \n",
            "\n"
          ],
          "name": "stdout"
        }
      ]
    }
  ]
}
